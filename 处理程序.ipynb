{
 "cells": [
  {
   "cell_type": "code",
   "execution_count": 1,
   "id": "87f30e8a",
   "metadata": {},
   "outputs": [
    {
     "name": "stdout",
     "output_type": "stream",
     "text": [
      "已成功保存第一帧至：C:\\Users\\Admin\\Documents\\GitHub\\home\\assets\\images\\music_playing_static.png\n"
     ]
    }
   ],
   "source": [
    "from PIL import Image\n",
    "\n",
    "# GIF 源文件路径\n",
    "gif_path = r\"C:\\Users\\Admin\\Documents\\GitHub\\home\\assets\\images\\music_playing.gif\"\n",
    "# 输出静态图路径\n",
    "output_path = r\"C:\\Users\\Admin\\Documents\\GitHub\\home\\assets\\images\\music_playing_static.png\"\n",
    "\n",
    "with Image.open(gif_path) as im:\n",
    "    im.seek(0)          # 定位第一帧\n",
    "    first_frame = im.convert('RGBA')  # 转为RGBA格式，保留透明通道\n",
    "    first_frame.save(output_path)\n",
    "\n",
    "print(f\"已成功保存第一帧至：{output_path}\")\n"
   ]
  }
 ],
 "metadata": {
  "kernelspec": {
   "display_name": "py39_tf",
   "language": "python",
   "name": "python3"
  },
  "language_info": {
   "codemirror_mode": {
    "name": "ipython",
    "version": 3
   },
   "file_extension": ".py",
   "mimetype": "text/x-python",
   "name": "python",
   "nbconvert_exporter": "python",
   "pygments_lexer": "ipython3",
   "version": "3.9.18"
  }
 },
 "nbformat": 4,
 "nbformat_minor": 5
}
